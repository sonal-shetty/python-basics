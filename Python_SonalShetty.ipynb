{
 "cells": [
  {
   "cell_type": "code",
   "execution_count": 1,
   "id": "1109848d",
   "metadata": {},
   "outputs": [
    {
     "name": "stdout",
     "output_type": "stream",
     "text": [
      "The dictionary is: [1, 2, 3, 4, 5, 6, 7, 8, 9, 10]\n",
      "The dictionary after squaring is: [1, 4, 9, 16, 25, 36, 49, 64, 81, 100]\n"
     ]
    }
   ],
   "source": [
    "#Question1 - Create a dictionary containing the squares of numbers from 1 to 10 (number is the key, square is the value)\n",
    "num_dict = list(range(1,11))\n",
    "print('The dictionary is:',num_dict)\n",
    "sq_dict = [num*num for num in num_dict]\n",
    "print('The dictionary after squaring is:',sq_dict)"
   ]
  },
  {
   "cell_type": "code",
   "execution_count": 2,
   "id": "99d1c8ce",
   "metadata": {},
   "outputs": [
    {
     "name": "stdout",
     "output_type": "stream",
     "text": [
      "Enter a number to get the factorial:9\n",
      "The factorial of 9 is: 362880\n"
     ]
    }
   ],
   "source": [
    "#Question2 - Write a function that takes a number as input and returns its factorial\n",
    "result = 1\n",
    "\n",
    "def fact(num):\n",
    "    global result\n",
    "    if num == 0 or num == 1:\n",
    "        result == 1\n",
    "    else:\n",
    "        for i in range(num, 1, -1):\n",
    "            result = result * i\n",
    "    return result\n",
    "        \n",
    "num = int(input('Enter a number to get the factorial:'))\n",
    "result = fact(num)\n",
    "print('The factorial of',num,'is:',result)"
   ]
  },
  {
   "cell_type": "code",
   "execution_count": 3,
   "id": "c88ad835",
   "metadata": {},
   "outputs": [
    {
     "name": "stdout",
     "output_type": "stream",
     "text": [
      "The contents of the file are\n",
      " 38\n",
      "49\n",
      "69\n",
      "47\n",
      "56\n",
      "71\n",
      "61\n",
      "57\n",
      "69\n",
      "37\n",
      "40\n",
      "29\n",
      "32\n",
      "2\n",
      "17\n",
      "23\n",
      "29\n",
      "22\n",
      "37\n",
      "82\n",
      "\n",
      "The odd numbers are:\n",
      "49\n",
      "69\n",
      "47\n",
      "71\n",
      "61\n",
      "57\n",
      "69\n",
      "37\n",
      "29\n",
      "17\n",
      "23\n",
      "29\n",
      "37\n"
     ]
    }
   ],
   "source": [
    "#Question3 - Write a Python script to write a list of random numbers into a file. \n",
    "#Write a Python script to read the file created and print only the odd numbers.\n",
    "import random\n",
    "file1 = open('result.txt','w')\n",
    "\n",
    "#Writing 20 random numbers into the file\n",
    "for i in range(20):\n",
    "    x = random.randint(1,100)\n",
    "    file1.write('{}\\n'.format(x))\n",
    "\n",
    "file1.close()\n",
    "\n",
    "#Printing the contents of the file\n",
    "file = open('result.txt','r')\n",
    "num = file.read()\n",
    "print('The contents of the file are\\n',num)\n",
    "file.close()\n",
    "\n",
    "#Reading the file and printing only the odd numbers\n",
    "file2 = open('result.txt','r').readlines()\n",
    "print('The odd numbers are:')\n",
    "for line in file2:\n",
    "    num = int(line)\n",
    "    if num %2 !=0:\n",
    "        print(num)"
   ]
  },
  {
   "cell_type": "code",
   "execution_count": 4,
   "id": "21c24dd0",
   "metadata": {},
   "outputs": [],
   "source": [
    "#Question4.1 Define a class named Rectangle with attributes: length and width. The class should \n",
    "#have methods to calculate area and perimeter. \n",
    "class Rectangle:\n",
    "    def __init__(self,length,width):\n",
    "        self.length = length\n",
    "        self.width = width\n",
    "    \n",
    "    def getArea(self):\n",
    "        return self.length * self.width\n",
    "    \n",
    "    def getPerimeter(self):\n",
    "        return 2 * (self.length + self.width)"
   ]
  },
  {
   "cell_type": "code",
   "execution_count": 5,
   "id": "c5fbf735",
   "metadata": {},
   "outputs": [
    {
     "name": "stdout",
     "output_type": "stream",
     "text": [
      "The area of the rectangle: 12\n",
      "The perimeter of the rectangle: 14\n"
     ]
    }
   ],
   "source": [
    "#Question4.2 - Create an instance of the Rectangle class and demonstrate the usage of the methods. \n",
    "Rectangle1 = Rectangle(4,3)\n",
    "\n",
    "area1 = Rectangle1.getArea()\n",
    "print(\"The area of the rectangle:\",area1)\n",
    "\n",
    "perimeter1 = Rectangle1.getPerimeter()\n",
    "print(\"The perimeter of the rectangle:\",perimeter1)"
   ]
  },
  {
   "cell_type": "code",
   "execution_count": 6,
   "id": "7a290fef",
   "metadata": {},
   "outputs": [
    {
     "name": "stdout",
     "output_type": "stream",
     "text": [
      "First rectangle is larger\n"
     ]
    }
   ],
   "source": [
    "#Question4.3 - Add a method to the Rectangle class that compares the area of the current rectangle \n",
    "#with another rectangle (another instance of the class)\n",
    "def compRect(self, rect2):\n",
    "    if self.getArea() > rect2.getArea():\n",
    "        print(\"First rectangle is larger\")\n",
    "    elif self.getArea() < rect2.getArea():\n",
    "        print(\"Second rectangle is larger\")\n",
    "    else:\n",
    "        print(\"Both rectangles have the same area\")\n",
    "\n",
    "Rect1 = Rectangle(5,3)\n",
    "Rect2 = Rectangle(3,3)\n",
    "Rectangle.compRect = compRect(Rect1, Rect2)"
   ]
  },
  {
   "cell_type": "code",
   "execution_count": 7,
   "id": "1297ac0d",
   "metadata": {},
   "outputs": [
    {
     "name": "stdout",
     "output_type": "stream",
     "text": [
      "10 is not a perfect square\n"
     ]
    }
   ],
   "source": [
    "#Question5: Write a function that determines if a given number is a perfect square\n",
    "import math\n",
    "def sqRoot(num):\n",
    "    result = math.sqrt(num)\n",
    "    return result.is_integer()\n",
    "\n",
    "num = 10\n",
    "result = sqRoot(num)\n",
    "if result == 'True':\n",
    "    print(num,'is a perfect square')\n",
    "else:\n",
    "    print(num,'is not a perfect square')"
   ]
  },
  {
   "cell_type": "code",
   "execution_count": 8,
   "id": "e3eb3e53",
   "metadata": {},
   "outputs": [
    {
     "name": "stdout",
     "output_type": "stream",
     "text": [
      "The 1000 digit number is:\n",
      " 5068994619941419171131855734797065348304573688167681648721433080410010652212074558607248595192588245351080610433670972129408975758394394461933689104603127932041307516604166231374306910748813208327362825002520797674594813008082529352471118552286680893056357409495699139208432031586926259762837543199840129663177833141694509916037287452575796719404153068665732512679847655423807132405768590513878486716398551043629594048228399247340730933070378782282074177560963671492472377680974441118664049014667365000046609623917504878372627460351177989638072840488997304991630851360550471812448547184356052496546004245478608535294760934256740079407780976103554961617678339057899591609938837857078571476388339944433710126760695025215687287720640284053941565625617357383116564490855583118259882017530561130950712201911211193862276072024791652237848589756202305099818465040544950256437383873652008413349513104928080914644612718096997968576209774560349835624103872689731719997633226818749191800282586457169969793446305\n",
      "Adjacent digits with greatest product: 8899\n"
     ]
    }
   ],
   "source": [
    "#Question6: Randomly generate a 1000 digit number. Find the four adjacent digits that have the greatest product.\n",
    "import random\n",
    "numK = \"\"\n",
    "\n",
    "#Generating the 1000 digit number\n",
    "for i in range(1000):\n",
    "    num = random.randint(0,9)\n",
    "    numK += str(num)\n",
    "print('The 1000 digit number is:\\n',numK)\n",
    "\n",
    "#Setting variables to hold\n",
    "prev_product = 0\n",
    "prev_num = 0\n",
    "\n",
    "#Checking for highest product\n",
    "for i in range(997):\n",
    "    newNum = numK[i:i+4]\n",
    "    product = 1\n",
    "    for numbers in newNum:\n",
    "        product = product * int(numbers)\n",
    "    if product > prev_product:\n",
    "        prev_product = product\n",
    "        prev_num = newNum\n",
    "        \n",
    "print('Adjacent digits with greatest product:',prev_num)   "
   ]
  },
  {
   "cell_type": "code",
   "execution_count": 31,
   "id": "f3022fd9",
   "metadata": {
    "scrolled": true
   },
   "outputs": [
    {
     "name": "stdout",
     "output_type": "stream",
     "text": [
      "The mean of the list is: 15.88888888888889\n",
      "The median of the list is: 2\n",
      "The mode of the list is: 2\n"
     ]
    }
   ],
   "source": [
    "#Question7: Write a Python function that calculates and returns the mean, median, and mode \n",
    "#of a list of numbers without using special functions\n",
    "def calc(list):\n",
    "    #Calculating mean\n",
    "    mean = sum(list)/len(list)\n",
    "    \n",
    "    #Calculating median\n",
    "    sortedList = sorted(list)\n",
    "    length = len(sortedList) #getting the total length of the list\n",
    "    middle = length // 2 #getting the centremost number in the list\n",
    "    if length % 2 == 0:\n",
    "        median = ((sortedList[middle - 1] + sortedList[middle]) / 2)\n",
    "    else:\n",
    "        median = sortedList[middle]\n",
    "    \n",
    "    #Calculating mode\n",
    "    max_count = 0\n",
    "    modeList = {}\n",
    "    for num in list:\n",
    "        if num in modeList:\n",
    "            modeList[num] += 1\n",
    "        else:\n",
    "            modeList[num] = 1\n",
    "\n",
    "        if modeList[num] > max_count:\n",
    "            max_count = modeList[num]\n",
    "            mode = num\n",
    "        \n",
    "    return mean, median, mode\n",
    "    \n",
    "list = [1,123,3,4,1,2,2,2,5]\n",
    "mean, median, mode = calc(list)\n",
    "print('The mean of the list is:',mean)\n",
    "print('The median of the list is:',median)\n",
    "print('The mode of the list is:', mode)"
   ]
  },
  {
   "cell_type": "code",
   "execution_count": 34,
   "id": "80e44466",
   "metadata": {},
   "outputs": [
    {
     "name": "stdout",
     "output_type": "stream",
     "text": [
      "Enter the number of trials:3\n",
      "Probability of winning when switching: 33.33333333333333 %\n",
      "probability of winning when not switching: 66.66666666666666 %\n"
     ]
    }
   ],
   "source": [
    "#Question8: Monty Hall problem\n",
    "import random\n",
    "\n",
    "def game(num_games):\n",
    "    first_choice = 0\n",
    "    new_choice = 0\n",
    "\n",
    "    for i in range(num_games):\n",
    "        options = ['goat', 'goat', 'car']\n",
    "        random.shuffle(options)\n",
    "        choice = random.randint(0, 2)\n",
    "\n",
    "        show_door = None\n",
    "        for i in range(3):\n",
    "            if i != choice and options[i] == 'goat':\n",
    "                show_door = i\n",
    "                break\n",
    "\n",
    "        new_door = [i for i in range(3) if i != choice and i != show_door][0]\n",
    "\n",
    "        if options[new_door] == 'car':\n",
    "            new_choice += 1\n",
    "\n",
    "        if options[choice] == 'car':\n",
    "            first_choice += 1\n",
    "\n",
    "    switch_prob = new_choice / num_games\n",
    "    init_prob = first_choice / num_games\n",
    "\n",
    "    print(\"Probability of winning when switching:\",(switch_prob*100),'%')\n",
    "    print(\"probability of winning when not switching:\",(init_prob*100),'%')\n",
    "    return switch_prob, init_prob\n",
    "\n",
    "# Usage example\n",
    "num_games = int(input(\"Enter the number of trials:\"))\n",
    "\n",
    "switch_prob, init_prob = game(num_games)"
   ]
  }
 ],
 "metadata": {
  "kernelspec": {
   "display_name": "Python 3 (ipykernel)",
   "language": "python",
   "name": "python3"
  },
  "language_info": {
   "codemirror_mode": {
    "name": "ipython",
    "version": 3
   },
   "file_extension": ".py",
   "mimetype": "text/x-python",
   "name": "python",
   "nbconvert_exporter": "python",
   "pygments_lexer": "ipython3",
   "version": "3.10.9"
  }
 },
 "nbformat": 4,
 "nbformat_minor": 5
}
